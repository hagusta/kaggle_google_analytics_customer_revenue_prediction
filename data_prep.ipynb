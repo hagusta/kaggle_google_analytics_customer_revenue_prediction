{
 "cells": [
  {
   "cell_type": "code",
   "execution_count": 1,
   "metadata": {},
   "outputs": [],
   "source": [
    "import pandas as pd\n",
    "import numpy as np\n",
    "import pickle, time, math"
   ]
  },
  {
   "cell_type": "raw",
   "metadata": {},
   "source": [
    "device.browserSize ['nad']\n",
    "device.browserVersion ['nad']\n",
    "device.flashVersion ['nad']\n",
    "device.language ['nad']\n",
    "device.mobileDeviceBranding ['nad']\n",
    "device.mobileDeviceInfo ['nad']\n",
    "device.mobileDeviceMarketingName ['nad']\n",
    "device.mobileDeviceModel ['nad']\n",
    "device.mobileInputSelector ['nad']\n",
    "geoNetwork.latitude ['nad']\n",
    "geoNetwork.longitude ['nad']\n",
    "geoNetwork.networkLocation ['nad']\n",
    "trafficSource.campaignCode\n",
    "socialEngagementType ['Not Socially Engaged']\n",
    "device.operatingSystemVersion ['nad']\n",
    "device.screenColors ['nad']\n",
    "device.screenResolution ['nad']\n",
    "trafficSource.adwordsClickInfo.criteriaParameters [\"'nad'\"]\n",
    "trafficSource.adwordsClickInfo.isVideoAd [False]\n",
    "trafficSource.adwordsClickInfo.targetingCriteria [0.]\n",
    "trafficSource.adwordsClickInfo.targetingCriteria_imputed [1]"
   ]
  },
  {
   "cell_type": "code",
   "execution_count": 2,
   "metadata": {},
   "outputs": [
    {
     "name": "stderr",
     "output_type": "stream",
     "text": [
      "C:\\Users\\h_agu\\Desktop\\machine_learning\\Miniconda3\\envs\\tensorflow-gpu3\\lib\\site-packages\\IPython\\core\\interactiveshell.py:2785: DtypeWarning: Columns (3) have mixed types. Specify dtype option on import or set low_memory=False.\n",
      "  interactivity=interactivity, compiler=compiler, result=result)\n"
     ]
    }
   ],
   "source": [
    "data = pd.read_csv('train.csv',delimiter=',')\n",
    "#dt2 = pd.read_csv('test.csv',delimiter=',')"
   ]
  },
  {
   "cell_type": "code",
   "execution_count": 3,
   "metadata": {},
   "outputs": [],
   "source": [
    "#\"not available in demo dataset\",\"na\"\n",
    "data=data.replace({\"not available in demo dataset\":\"(nad)\"},regex=True) # nad = not avail for demo\n",
    "data=data.replace({'(not set)':\"(ns)\"},regex=True) # ns = not set\n",
    "data=data.replace({'(not provided)':'(np)'},regex=True) # np = not provided"
   ]
  },
  {
   "cell_type": "code",
   "execution_count": 4,
   "metadata": {},
   "outputs": [],
   "source": [
    "cols=['device','geoNetwork','totals','trafficSource']\n",
    "\n",
    "for col in cols:\n",
    "    df1 = pd.DataFrame(data.pop(col).apply(pd.io.json.loads).values.tolist(), index=data.index)\n",
    "    df1.columns = [ str(col) + '_' + str(Col) for Col in df1.columns]\n",
    "    data=data.join(df1)"
   ]
  },
  {
   "cell_type": "code",
   "execution_count": 5,
   "metadata": {},
   "outputs": [],
   "source": [
    "col='trafficSource_adwordsClickInfo'\n",
    "columns=[]\n",
    "dat_dict=dict()\n",
    "for idx,dat in zip(data.index,data[col]):\n",
    "    #print(idx)\n",
    "    for key,d in dat.items():\n",
    "        #a=d.split(':')\n",
    "        if key not in columns:\n",
    "            columns.append(key)\n",
    "            dat_dict.update({key:{'idx':[idx],'val':[d]}})\n",
    "        else:\n",
    "            _dict=dat_dict[key]\n",
    "            _idx=_dict['idx']\n",
    "            _idx.append(idx)\n",
    "            _val=_dict['val']\n",
    "            _val.append(d)\n",
    "\n",
    "for _col,dat in dat_dict.items():\n",
    "    df1=pd.DataFrame(dat['val'],index=dat['idx'],columns=[col +'_'+_col.replace(\"'\",'')])\n",
    "    #print(df1.head())\n",
    "    data=data.join(df1,how='outer')\n",
    "    \n",
    "data=data.drop([col],axis=1)"
   ]
  },
  {
   "cell_type": "code",
   "execution_count": 6,
   "metadata": {},
   "outputs": [],
   "source": [
    "col_to_drop=['device_browserSize', 'device_browserVersion', 'device_flashVersion', 'device_language'\n",
    ", 'device_mobileDeviceBranding', 'device_mobileDeviceInfo', 'device_mobileDeviceMarketingName'\n",
    ", 'device_mobileDeviceModel', 'device_mobileInputSelector', 'geoNetwork_latitude', 'geoNetwork_longitude'\n",
    ", 'geoNetwork_networkLocation', 'trafficSource_campaignCode', 'socialEngagementType', 'device_operatingSystemVersion'\n",
    ", 'device_screenColors', 'device_screenResolution', 'trafficSource_adwordsClickInfo_criteriaParameters'\n",
    ", 'trafficSource_adwordsClickInfo_isVideoAd', 'trafficSource_adwordsClickInfo_targetingCriteria', 'trafficSource_isTrueDirect'\n",
    ", 'geoNetwork_cityId'\n",
    "#, 'trafficSource_adwordsClickInfo_targetingCriteria_imputed', 'totals_transactionRevenue_imputed'\n",
    "]\n",
    "data=data.drop(col_to_drop,axis=1)"
   ]
  },
  {
   "cell_type": "code",
   "execution_count": 7,
   "metadata": {},
   "outputs": [],
   "source": [
    "col_num=['totals_bounces', 'totals_hits', 'totals_newVisits', 'totals_pageviews']\n",
    "col_app=[]\n",
    "for col in col_num:\n",
    "    data[col +\"_imputed\"]=pd.isnull(data[col]).astype(np.int)\n",
    "    col_app.append(col +\"_imputed\")\n",
    "    data[col].fillna(0,inplace=True)\n",
    "    \n",
    "drop_imputed=[]\n",
    "for col in col_app:\n",
    "    n=(data[col][data[col]==1]).shape[0]\n",
    "    if n == 0:\n",
    "        drop_imputed.append(col)\n",
    "data=data.drop(drop_imputed,axis=1)  "
   ]
  },
  {
   "cell_type": "code",
   "execution_count": 8,
   "metadata": {},
   "outputs": [],
   "source": [
    "data['totals_bounces']=data['totals_bounces'].astype(np.int)\n",
    "data['totals_hits']=data['totals_hits'].astype(np.int)\n",
    "data['totals_newVisits']=data['totals_newVisits'].astype(np.int)\n",
    "data['totals_pageviews']=data['totals_pageviews'].astype(np.int)\n",
    "data['totals_transactionRevenue'].fillna(0,inplace=True)\n",
    "data['totals_transactionRevenue']=data['totals_transactionRevenue'].astype(np.float)\n",
    "data=data.drop(['totals_visits'],axis=1)"
   ]
  },
  {
   "cell_type": "code",
   "execution_count": 9,
   "metadata": {},
   "outputs": [],
   "source": [
    "d=data.dtypes.T.apply(pd.Series)\n",
    "for col, ty in zip(d.index,d.values):\n",
    "    if ty == 'object' :\n",
    "        data[col]=data[col].replace(np.nan,'?')"
   ]
  },
  {
   "cell_type": "code",
   "execution_count": 10,
   "metadata": {},
   "outputs": [],
   "source": [
    "data['totals_transactionRevenue'].fillna(0,inplace=True)"
   ]
  },
  {
   "cell_type": "code",
   "execution_count": null,
   "metadata": {},
   "outputs": [],
   "source": [
    "bins=[5,10,30,50,100]\n",
    "column_name='totals_pageviews'\n",
    "#bin_labels=['visit_1to5','visit_5to10','visit_10to30','visit_30to50','visit_50to100','visit_100to150']\n",
    "#_=[for _bin in bins]\n",
    "#print(len(bins),len(bin_labels))\n",
    "bin_labels=[]\n",
    "for i,_bin in enumerate(bins):\n",
    "    if i == 0 :\n",
    "        bin_labels.append(column_name+'_to_'+str(_bin))\n",
    "        data[bin_labels[i]]=data[column_name]<=_bin\n",
    "        data[bin_labels[i]].astype(np.bool)\n",
    "    else :\n",
    "        bin_labels.append(column_name+'_between_'+str(bins[i-1])+'_'+str(_bin))\n",
    "        data[bin_labels[i]]=(data[column_name]<=_bin) & (data[column_name]>bins[i-1])\n",
    "        data[bin_labels[i]].astype(np.bool)\n",
    "    if len(bins)-1 == i:\n",
    "        bin_labels.append(column_name+'_greater_'+str(_bin))\n",
    "        data[bin_labels[i+1]]=(data[column_name]>_bin)\n",
    "        data[bin_labels[i+1]].astype(np.bool)"
   ]
  },
  {
   "cell_type": "code",
   "execution_count": null,
   "metadata": {},
   "outputs": [],
   "source": [
    "bins=[5,10,30,50,100]\n",
    "column_name='totals_hits'\n",
    "#bin_labels=['visit_1to5','visit_5to10','visit_10to30','visit_30to50','visit_50to100','visit_100to150']\n",
    "#_=[for _bin in bins]\n",
    "#print(len(bins),len(bin_labels))\n",
    "bin_labels=[]\n",
    "for i,_bin in enumerate(bins):\n",
    "    if i == 0 :\n",
    "        bin_labels.append(column_name+'_to_'+str(_bin))\n",
    "        data[bin_labels[i]]=data[column_name]<=_bin\n",
    "        data[bin_labels[i]].astype(np.bool)\n",
    "    else :\n",
    "        bin_labels.append(column_name+'_between_'+str(bins[i-1])+'_'+str(_bin))\n",
    "        data[bin_labels[i]]=(data[column_name]<=_bin) & (data[column_name]>bins[i-1])\n",
    "        data[bin_labels[i]].astype(np.bool)\n",
    "    if len(bins)-1 == i:\n",
    "        bin_labels.append(column_name+'_greater_'+str(_bin))\n",
    "        data[bin_labels[i+1]]=(data[column_name]>_bin)\n",
    "        data[bin_labels[i+1]].astype(np.bool)"
   ]
  },
  {
   "cell_type": "code",
   "execution_count": 11,
   "metadata": {},
   "outputs": [],
   "source": [
    "y=data['totals_transactionRevenue']\n",
    "x=data.copy()\n",
    "x.drop(['totals_transactionRevenue'],axis=1,inplace=True)\n",
    "y=pd.DataFrame(y,columns=['totals_transactionRevenue'], index=x.index)"
   ]
  },
  {
   "cell_type": "code",
   "execution_count": 13,
   "metadata": {},
   "outputs": [],
   "source": [
    "y.to_csv('y.csv',index=False)\n",
    "x.to_csv('x.csv',index=False)"
   ]
  },
  {
   "cell_type": "code",
   "execution_count": 14,
   "metadata": {},
   "outputs": [
    {
     "name": "stderr",
     "output_type": "stream",
     "text": [
      "C:\\Users\\h_agu\\Desktop\\machine_learning\\Miniconda3\\envs\\tensorflow-gpu3\\lib\\site-packages\\IPython\\core\\interactiveshell.py:2785: DtypeWarning: Columns (2) have mixed types. Specify dtype option on import or set low_memory=False.\n",
      "  interactivity=interactivity, compiler=compiler, result=result)\n"
     ]
    }
   ],
   "source": [
    "x=pd.read_csv('x.csv')\n",
    "y=pd.read_csv('y.csv')"
   ]
  },
  {
   "cell_type": "code",
   "execution_count": 7,
   "metadata": {},
   "outputs": [],
   "source": [
    "def categories_encoder_dictionary(x,y,categories_cols):\n",
    "    inflection=2\n",
    "    steepness=0.25\n",
    "    idx=y[y['totals.transactionRevenue']>0].index\n",
    "    n_rec=y.shape[0]\n",
    "    n_rec_event=idx.shape[0]\n",
    "    n_rec_non_event=n_rec-n_rec_event  \n",
    "    cat_dict=dict()\n",
    "    zero=1e-6\n",
    "    for col in categories_cols:\n",
    "        g1=x.groupby([col])['date'].count()#],columns=['channelGrouping','instances'])\n",
    "        g2=x.loc[idx].groupby([col])['date'].count()\n",
    "        g1=pd.DataFrame(g1)\n",
    "        g1.columns=['instance']\n",
    "        g2=pd.DataFrame(g2)\n",
    "        g2.columns=['events']\n",
    "        g1=g1.join(g2)\n",
    "        g1['events']=g1.events.fillna(0)\n",
    "        g1['non_event']=g1['instance']-g1['events']\n",
    "        g1['prec_non_event']=(g1['non_event']/n_rec_non_event)*100\n",
    "        g1['prec_event']=(g1['events']/n_rec_event)*100\n",
    "        g1['WoE']=np.log(((g1['non_event']+zero)/n_rec_non_event)/((g1['events']+zero)/n_rec_event))\n",
    "        g1['Info_val']=(g1['prec_non_event']-g1['prec_event'])/100*g1['WoE']\n",
    "        g1['lambda']=1/(1+np.exp(-(g1['events']-inflection)/steepness))\n",
    "        g1['Target_Mean']=g1['lambda']*g1['events']/g1['instance']+(1-g1['lambda'])*n_rec_event/n_rec\n",
    "        cat_dict.update({col:g1})\n",
    "    return cat_dict"
   ]
  },
  {
   "cell_type": "raw",
   "metadata": {},
   "source": [
    "data['visitStartTime']=pd.to_datetime(data['visitStartTime'],unit='s')"
   ]
  },
  {
   "cell_type": "code",
   "execution_count": 40,
   "metadata": {},
   "outputs": [],
   "source": [
    "data['visitStartTime_dayofweek']=data['visitStartTime'].dt.dayofweek\n",
    "data['visitStartTime_dayofyear']=data['visitStartTime'].dt.dayofyear"
   ]
  },
  {
   "cell_type": "code",
   "execution_count": 73,
   "metadata": {},
   "outputs": [],
   "source": [
    "data['visitStartTime']=pd.to_datetime(data['visitStartTime'])\n",
    "data['visitStartTime_hourofday']=data['visitStartTime'].dt.hour"
   ]
  },
  {
   "cell_type": "code",
   "execution_count": 85,
   "metadata": {},
   "outputs": [],
   "source": [
    "data['visitStartTime']=pd.to_datetime(data['visitStartTime'])\n",
    "data['visitStartTime_dayofmonth']=data['visitStartTime'].dt.day"
   ]
  },
  {
   "cell_type": "code",
   "execution_count": 84,
   "metadata": {},
   "outputs": [],
   "source": [
    "data=data.drop(['visitStartTime_dayofmont'],axis=1)"
   ]
  },
  {
   "cell_type": "code",
   "execution_count": 86,
   "metadata": {},
   "outputs": [],
   "source": [
    "data['visitStartTime']=pd.to_datetime(data['visitStartTime'])\n",
    "data['visitStartTime_month']=data['visitStartTime'].dt.month"
   ]
  },
  {
   "cell_type": "code",
   "execution_count": 87,
   "metadata": {},
   "outputs": [],
   "source": [
    "data['visitStartTime']=pd.to_datetime(data['visitStartTime'])\n",
    "data['visitStartTime_year']=data['visitStartTime'].dt.year"
   ]
  },
  {
   "cell_type": "code",
   "execution_count": 88,
   "metadata": {},
   "outputs": [],
   "source": [
    "data['date']=pd.to_datetime(data['date'])\n",
    "data['date_day']=data['date'].dt.day\n",
    "data['date_month']=data['date'].dt.month\n",
    "data['date_year']=data['date'].dt.year\n",
    "data['date_dayofyear']=data['date'].dt.dayofyear\n",
    "data['date_dayofweek']=data['date'].dt.dayofweek"
   ]
  },
  {
   "cell_type": "code",
   "execution_count": 97,
   "metadata": {},
   "outputs": [],
   "source": [
    "data['date']=pd.to_datetime(data['date'])\n",
    "data['date_quarter']=data['date'].dt.quarter\n",
    "data['visitStartTime']=pd.to_datetime(data['visitStartTime'])\n",
    "data['visitStartTime_quarter']=data['visitStartTime'].dt.quarter"
   ]
  },
  {
   "cell_type": "code",
   "execution_count": 98,
   "metadata": {},
   "outputs": [],
   "source": [
    "data=data.sort_index(axis=1)"
   ]
  },
  {
   "cell_type": "code",
   "execution_count": 99,
   "metadata": {},
   "outputs": [],
   "source": [
    "data.to_csv('train_data.csv',index=False)"
   ]
  },
  {
   "cell_type": "code",
   "execution_count": 100,
   "metadata": {},
   "outputs": [
    {
     "name": "stderr",
     "output_type": "stream",
     "text": [
      "C:\\Users\\h_agu\\Desktop\\machine_learning\\Miniconda3\\envs\\tensorflow-gpu3\\lib\\site-packages\\IPython\\core\\interactiveshell.py:2785: DtypeWarning: Columns (12) have mixed types. Specify dtype option on import or set low_memory=False.\n",
      "  interactivity=interactivity, compiler=compiler, result=result)\n"
     ]
    }
   ],
   "source": [
    "data=pd.read_csv('train_data.csv')"
   ]
  },
  {
   "cell_type": "code",
   "execution_count": 101,
   "metadata": {},
   "outputs": [
    {
     "data": {
      "text/plain": [
       "channelGrouping                                  object\n",
       "date                                             object\n",
       "date_day                                          int64\n",
       "date_dayofweek                                    int64\n",
       "date_dayofyear                                    int64\n",
       "date_month                                        int64\n",
       "date_quarter                                      int64\n",
       "date_year                                         int64\n",
       "device_browser                                   object\n",
       "device_deviceCategory                            object\n",
       "device_isMobile                                    bool\n",
       "device_operatingSystem                           object\n",
       "fullVisitorId                                    object\n",
       "geoNetwork_city                                  object\n",
       "geoNetwork_city_is_revenue_above_mean              bool\n",
       "geoNetwork_city_trans_view_above_1_per_mile        bool\n",
       "geoNetwork_continent                             object\n",
       "geoNetwork_country                               object\n",
       "geoNetwork_metro                                 object\n",
       "geoNetwork_metro_is_revenue_above_mean             bool\n",
       "geoNetwork_metro_trans_view_above_1_per_mile       bool\n",
       "geoNetwork_networkDomain                         object\n",
       "geoNetwork_region                                object\n",
       "geoNetwork_subContinent                          object\n",
       "sessionId                                        object\n",
       "totals_bounces                                    int64\n",
       "totals_bounces_imputed                             bool\n",
       "totals_hits                                       int64\n",
       "totals_hits_between_10_30                          bool\n",
       "totals_hits_between_30_50                          bool\n",
       "                                                 ...   \n",
       "totals_newVisits_imputed                           bool\n",
       "totals_pageviews                                  int64\n",
       "totals_pageviews_between_10_30                     bool\n",
       "totals_pageviews_between_30_50                     bool\n",
       "totals_pageviews_between_50_100                    bool\n",
       "totals_pageviews_between_5_10                      bool\n",
       "totals_pageviews_greater_100                       bool\n",
       "totals_pageviews_imputed                           bool\n",
       "totals_pageviews_to_5                              bool\n",
       "totals_transactionRevenue                       float64\n",
       "trafficSource_adContent                          object\n",
       "trafficSource_adwordsClickInfo_adNetworkType     object\n",
       "trafficSource_adwordsClickInfo_gclId             object\n",
       "trafficSource_adwordsClickInfo_page              object\n",
       "trafficSource_adwordsClickInfo_slot              object\n",
       "trafficSource_campaign                           object\n",
       "trafficSource_keyword                            object\n",
       "trafficSource_medium                             object\n",
       "trafficSource_referralPath                       object\n",
       "trafficSource_source                             object\n",
       "visitId                                           int64\n",
       "visitNumber                                       int64\n",
       "visitStartTime                                   object\n",
       "visitStartTime_dayofmonth                         int64\n",
       "visitStartTime_dayofweek                          int64\n",
       "visitStartTime_dayofyear                          int64\n",
       "visitStartTime_hourofday                          int64\n",
       "visitStartTime_month                              int64\n",
       "visitStartTime_quarter                            int64\n",
       "visitStartTime_year                               int64\n",
       "Length: 65, dtype: object"
      ]
     },
     "execution_count": 101,
     "metadata": {},
     "output_type": "execute_result"
    }
   ],
   "source": [
    "data.dtypes.T"
   ]
  },
  {
   "cell_type": "markdown",
   "metadata": {},
   "source": [
    "to_drop=['visitStartTime','visitNumber','visitId','totals_hits','totals_pageviews','sessionId','fullVisitorId,'date']"
   ]
  },
  {
   "cell_type": "code",
   "execution_count": null,
   "metadata": {},
   "outputs": [],
   "source": []
  }
 ],
 "metadata": {
  "kernelspec": {
   "display_name": "tensorflow-gpu3",
   "language": "python",
   "name": "tensorflow-gpu3"
  },
  "language_info": {
   "codemirror_mode": {
    "name": "ipython",
    "version": 3
   },
   "file_extension": ".py",
   "mimetype": "text/x-python",
   "name": "python",
   "nbconvert_exporter": "python",
   "pygments_lexer": "ipython3",
   "version": "3.6.6"
  }
 },
 "nbformat": 4,
 "nbformat_minor": 2
}
